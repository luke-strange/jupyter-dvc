{
 "cells": [
  {
   "cell_type": "code",
   "execution_count": 1,
   "metadata": {},
   "outputs": [],
   "source": [
    "import mercury as mr\n",
    "import numpy\n",
    "import matplotlib.pyplot as plt\n",
    "import random\n",
    "%matplotlib inline\n"
   ]
  },
  {
   "cell_type": "code",
   "execution_count": 6,
   "metadata": {},
   "outputs": [
    {
     "data": {
      "application/mercury+json": {
       "allow_download": true,
       "code_uid": "App.0.40.24.1-rand5783c0ee",
       "continuous_update": true,
       "description": "Test in Mercury",
       "full_screen": true,
       "model_id": "mercury-app",
       "notify": "{}",
       "output": "app",
       "schedule": "",
       "show_code": false,
       "show_prompt": false,
       "show_sidebar": true,
       "static_notebook": false,
       "title": "Random walks in Mercury",
       "widget": "App"
      },
      "text/html": [
       "<h3>Mercury Application</h3><small>This output won't appear in the web app.</small>"
      ],
      "text/plain": [
       "mercury.App"
      ]
     },
     "metadata": {},
     "output_type": "display_data"
    }
   ],
   "source": [
    "app = mr.App(title='Random walks in Mercury', description='Test in Mercury')"
   ]
  },
  {
   "attachments": {},
   "cell_type": "markdown",
   "metadata": {},
   "source": [
    "# A Random Walk"
   ]
  },
  {
   "cell_type": "code",
   "execution_count": 10,
   "metadata": {},
   "outputs": [
    {
     "data": {
      "application/mercury+json": {
       "code_uid": "Slider.0.40.26.1-rand483c6858",
       "disabled": false,
       "hidden": false,
       "label": "Number of steps",
       "max": 1000,
       "min": 100,
       "model_id": "00e7cd4c915e4be794832954f37c0aa6",
       "step": 1,
       "url_key": "",
       "value": 1000,
       "widget": "Slider"
      },
      "application/vnd.jupyter.widget-view+json": {
       "model_id": "00e7cd4c915e4be794832954f37c0aa6",
       "version_major": 2,
       "version_minor": 0
      },
      "text/plain": [
       "mercury.Slider"
      ]
     },
     "metadata": {},
     "output_type": "display_data"
    }
   ],
   "source": [
    "steps = mr.Slider(label='Number of steps', value=1000, min=100, max=10000)\n",
    "colour = mr.Select(label='Select colour', value='blue', choices=['red', 'blue', 'orange', 'green'])\n",
    "flag = mr.Checkbox(value=False, label=\"Switch me\")"
   ]
  },
  {
   "cell_type": "code",
   "execution_count": 11,
   "metadata": {},
   "outputs": [],
   "source": [
    "#creating two array for containing x and y coordinate\n",
    "#of size equals to the number of size and filled up with 0's\n",
    "x = numpy.zeros(steps.value)\n",
    "y = numpy.zeros(steps.value)\n",
    " \n",
    "# filling the coordinates with random variables\n",
    "for i in range(1, steps.value):\n",
    "    val = random.randint(1, 4)\n",
    "    if val == 1:\n",
    "        x[i] = x[i - 1] + 1\n",
    "        y[i] = y[i - 1]\n",
    "    elif val == 2:\n",
    "        x[i] = x[i - 1] - 1\n",
    "        y[i] = y[i - 1]\n",
    "    elif val == 3:\n",
    "        x[i] = x[i - 1]\n",
    "        y[i] = y[i - 1] + 1\n",
    "    else:\n",
    "        x[i] = x[i - 1]\n",
    "        y[i] = y[i - 1] - 1"
   ]
  },
  {
   "cell_type": "code",
   "execution_count": 12,
   "metadata": {},
   "outputs": [
    {
     "data": {
      "image/png": "[encoded data removed]",
      "text/plain": [
       "<Figure size 640x480 with 1 Axes>"
      ]
     },
     "metadata": {},
     "output_type": "display_data"
    }
   ],
   "source": [
    "if flag.value:\n",
    "    plt.plot(x, y, color=colour.value, linestyle='--', linewidth=2)\n",
    "else:\n",
    "    plt.plot(x, y, color=colour.value)\n",
    "plt.show()"
   ]
  },
  {
   "cell_type": "code",
   "execution_count": null,
   "metadata": {},
   "outputs": [],
   "source": []
  }
 ],
 "metadata": {
  "kernelspec": {
   "display_name": "LukeStrange-x9U1R3yF",
   "language": "python",
   "name": "python3"
  },
  "language_info": {
   "codemirror_mode": {
    "name": "ipython",
    "version": 3
   },
   "file_extension": ".py",
   "mimetype": "text/x-python",
   "name": "python",
   "nbconvert_exporter": "python",
   "pygments_lexer": "ipython3",
   "version": "3.11.3"
  },
  "orig_nbformat": 4
 },
 "nbformat": 4,
 "nbformat_minor": 2
}
