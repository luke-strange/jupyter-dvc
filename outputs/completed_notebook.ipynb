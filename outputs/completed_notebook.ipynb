{
 "cells": [
  {
   "cell_type": "code",
   "execution_count": 1,
   "id": "c62c883a",
   "metadata": {
    "execution": {
     "iopub.execute_input": "2023-06-14T11:37:50.031176Z",
     "iopub.status.busy": "2023-06-14T11:37:50.030523Z",
     "iopub.status.idle": "2023-06-14T11:37:50.040096Z",
     "shell.execute_reply": "2023-06-14T11:37:50.038551Z"
    },
    "papermill": {
     "duration": 0.025494,
     "end_time": "2023-06-14T11:37:50.043369",
     "exception": false,
     "start_time": "2023-06-14T11:37:50.017875",
     "status": "completed"
    },
    "tags": [
     "injected-parameters"
    ]
   },
   "outputs": [],
   "source": [
    "# Parameters\n",
    "n = 1000\n",
    "colour = \"b\"\n"
   ]
  },
  {
   "attachments": {},
   "cell_type": "markdown",
   "id": "bea484f5",
   "metadata": {
    "papermill": {
     "duration": 0.010226,
     "end_time": "2023-06-14T11:37:50.064598",
     "exception": false,
     "start_time": "2023-06-14T11:37:50.054372",
     "status": "completed"
    },
    "tags": []
   },
   "source": [
    "### Simulate a random walk and plot it"
   ]
  },
  {
   "cell_type": "code",
   "execution_count": 2,
   "id": "789ade70",
   "metadata": {
    "execution": {
     "iopub.execute_input": "2023-06-14T11:37:50.089329Z",
     "iopub.status.busy": "2023-06-14T11:37:50.088654Z",
     "iopub.status.idle": "2023-06-14T11:37:50.587359Z",
     "shell.execute_reply": "2023-06-14T11:37:50.586498Z"
    },
    "papermill": {
     "duration": 0.514489,
     "end_time": "2023-06-14T11:37:50.588577",
     "exception": false,
     "start_time": "2023-06-14T11:37:50.074088",
     "status": "completed"
    },
    "tags": []
   },
   "outputs": [
    {
     "data": {
      "image/png": "[encoded data removed]",
      "text/plain": [
       "<Figure size 640x480 with 1 Axes>"
      ]
     },
     "metadata": {},
     "output_type": "display_data"
    }
   ],
   "source": [
    "# Python code for 2D random walk.\n",
    "import numpy\n",
    "import matplotlib.pyplot as plt\n",
    "%matplotlib inline\n",
    "import random\n",
    " \n",
    "#creating two array for containing x and y coordinate\n",
    "#of size equals to the number of size and filled up with 0's\n",
    "x = numpy.zeros(n)\n",
    "y = numpy.zeros(n)\n",
    " \n",
    "# filling the coordinates with random variables\n",
    "for i in range(1, n):\n",
    "    val = random.randint(1, 4)\n",
    "    if val == 1:\n",
    "        x[i] = x[i - 1] + 1\n",
    "        y[i] = y[i - 1]\n",
    "    elif val == 2:\n",
    "        x[i] = x[i - 1] - 1\n",
    "        y[i] = y[i - 1]\n",
    "    elif val == 3:\n",
    "        x[i] = x[i - 1]\n",
    "        y[i] = y[i - 1] + 1\n",
    "    else:\n",
    "        x[i] = x[i - 1]\n",
    "        y[i] = y[i - 1] - 1\n",
    "\n",
    "plt.plot(x, y, color=colour)\n",
    "plt.show()"
   ]
  },
  {
   "cell_type": "code",
   "execution_count": null,
   "id": "9704a0d8",
   "metadata": {
    "papermill": {
     "duration": 0.007259,
     "end_time": "2023-06-14T11:37:50.602889",
     "exception": false,
     "start_time": "2023-06-14T11:37:50.595630",
     "status": "completed"
    },
    "tags": []
   },
   "outputs": [],
   "source": []
  }
 ],
 "metadata": {
  "celltoolbar": "Tags",
  "kernelspec": {
   "display_name": "Python 3 (ipykernel)",
   "language": "python",
   "name": "python3"
  },
  "language_info": {
   "codemirror_mode": {
    "name": "ipython",
    "version": 3
   },
   "file_extension": ".py",
   "mimetype": "text/x-python",
   "name": "python",
   "nbconvert_exporter": "python",
   "pygments_lexer": "ipython3",
   "version": "3.10.6"
  },
  "papermill": {
   "default_parameters": {},
   "duration": 1.987582,
   "end_time": "2023-06-14T11:37:50.835069",
   "environment_variables": {},
   "exception": null,
   "input_path": "notebooks/random-walk.ipynb",
   "output_path": "outputs/completed_notebook.ipynb",
   "parameters": {
    "colour": "b",
    "n": 1000
   },
   "start_time": "2023-06-14T11:37:48.847487",
   "version": "2.4.0"
  }
 },
 "nbformat": 4,
 "nbformat_minor": 5
}