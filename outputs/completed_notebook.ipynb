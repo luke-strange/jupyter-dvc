{
 "cells": [
  {
   "cell_type": "code",
   "execution_count": 1,
   "id": "0d5b3e3c",
   "metadata": {
    "execution": {
     "iopub.execute_input": "2023-06-14T10:08:21.963024Z",
     "iopub.status.busy": "2023-06-14T10:08:21.961940Z",
     "iopub.status.idle": "2023-06-14T10:08:21.970071Z",
     "shell.execute_reply": "2023-06-14T10:08:21.968810Z"
    },
    "papermill": {
     "duration": 0.018252,
     "end_time": "2023-06-14T10:08:21.971693",
     "exception": false,
     "start_time": "2023-06-14T10:08:21.953441",
     "status": "completed"
    },
    "tags": [
     "injected-parameters"
    ]
   },
   "outputs": [],
   "source": [
    "# Parameters\n",
    "n = 1000\n",
    "colour = \"b\"\n"
   ]
  },
  {
   "attachments": {},
   "cell_type": "markdown",
   "id": "b4fa9904",
   "metadata": {
    "papermill": {
     "duration": 0.008426,
     "end_time": "2023-06-14T10:08:21.987823",
     "exception": false,
     "start_time": "2023-06-14T10:08:21.979397",
     "status": "completed"
    },
    "tags": []
   },
   "source": [
    "### Simulate a random walk and plot it"
   ]
  },
  {
   "cell_type": "code",
   "execution_count": 2,
   "id": "6f90b3ad",
   "metadata": {
    "execution": {
     "iopub.execute_input": "2023-06-14T10:08:22.011077Z",
     "iopub.status.busy": "2023-06-14T10:08:22.009817Z",
     "iopub.status.idle": "2023-06-14T10:08:22.542428Z",
     "shell.execute_reply": "2023-06-14T10:08:22.541487Z"
    },
    "papermill": {
     "duration": 0.547048,
     "end_time": "2023-06-14T10:08:22.543905",
     "exception": false,
     "start_time": "2023-06-14T10:08:21.996857",
     "status": "completed"
    },
    "tags": []
   },
   "outputs": [
    {
     "data": {
      "image/png": "[encoded data removed]",
      "text/plain": [
       "<Figure size 640x480 with 1 Axes>"
      ]
     },
     "metadata": {},
     "output_type": "display_data"
    }
   ],
   "source": [
    "# Python code for 2D random walk.\n",
    "import numpy\n",
    "import matplotlib.pyplot as plt\n",
    "%matplotlib inline\n",
    "import random\n",
    " \n",
    "#creating two array for containing x and y coordinate\n",
    "#of size equals to the number of size and filled up with 0's\n",
    "x = numpy.zeros(n)\n",
    "y = numpy.zeros(n)\n",
    " \n",
    "# filling the coordinates with random variables\n",
    "for i in range(1, n):\n",
    "    val = random.randint(1, 4)\n",
    "    if val == 1:\n",
    "        x[i] = x[i - 1] + 1\n",
    "        y[i] = y[i - 1]\n",
    "    elif val == 2:\n",
    "        x[i] = x[i - 1] - 1\n",
    "        y[i] = y[i - 1]\n",
    "    elif val == 3:\n",
    "        x[i] = x[i - 1]\n",
    "        y[i] = y[i - 1] + 1\n",
    "    else:\n",
    "        x[i] = x[i - 1]\n",
    "        y[i] = y[i - 1] - 1\n",
    "\n",
    "plt.plot(x, y, color=colour)\n",
    "plt.show()"
   ]
  },
  {
   "cell_type": "code",
   "execution_count": null,
   "id": "bd882970",
   "metadata": {
    "papermill": {
     "duration": 0.006706,
     "end_time": "2023-06-14T10:08:22.557787",
     "exception": false,
     "start_time": "2023-06-14T10:08:22.551081",
     "status": "completed"
    },
    "tags": []
   },
   "outputs": [],
   "source": []
  }
 ],
 "metadata": {
  "celltoolbar": "Tags",
  "kernelspec": {
   "display_name": "Python 3 (ipykernel)",
   "language": "python",
   "name": "python3"
  },
  "language_info": {
   "codemirror_mode": {
    "name": "ipython",
    "version": 3
   },
   "file_extension": ".py",
   "mimetype": "text/x-python",
   "name": "python",
   "nbconvert_exporter": "python",
   "pygments_lexer": "ipython3",
   "version": "3.10.6"
  },
  "papermill": {
   "default_parameters": {},
   "duration": 5.301933,
   "end_time": "2023-06-14T10:08:25.990165",
   "environment_variables": {},
   "exception": null,
   "input_path": "notebooks/random-walk.ipynb",
   "output_path": "outputs/completed_notebook.ipynb",
   "parameters": {
    "colour": "b",
    "n": 1000
   },
   "start_time": "2023-06-14T10:08:20.688232",
   "version": "2.4.0"
  }
 },
 "nbformat": 4,
 "nbformat_minor": 5
}