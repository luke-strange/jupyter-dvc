{
 "cells": [
  {
   "cell_type": "code",
   "execution_count": 1,
   "id": "4a61f7d6",
   "metadata": {
    "execution": {
     "iopub.execute_input": "2023-06-13T15:27:29.611258Z",
     "iopub.status.busy": "2023-06-13T15:27:29.610167Z",
     "iopub.status.idle": "2023-06-13T15:27:29.616811Z",
     "shell.execute_reply": "2023-06-13T15:27:29.616035Z"
    },
    "papermill": {
     "duration": 0.030068,
     "end_time": "2023-06-13T15:27:29.618042",
     "exception": false,
     "start_time": "2023-06-13T15:27:29.587974",
     "status": "completed"
    },
    "tags": [
     "injected-parameters"
    ]
   },
   "outputs": [],
   "source": [
    "# Parameters\n",
    "n = 10\n",
    "colour = \"b\"\n"
   ]
  },
  {
   "attachments": {},
   "cell_type": "markdown",
   "id": "3b0137d4",
   "metadata": {
    "papermill": {
     "duration": 0.00636,
     "end_time": "2023-06-13T15:27:29.633152",
     "exception": false,
     "start_time": "2023-06-13T15:27:29.626792",
     "status": "completed"
    },
    "tags": []
   },
   "source": [
    "### Simulate a random walk and plot it"
   ]
  },
  {
   "cell_type": "code",
   "execution_count": 2,
   "id": "199bcd70",
   "metadata": {
    "execution": {
     "iopub.execute_input": "2023-06-13T15:27:29.650278Z",
     "iopub.status.busy": "2023-06-13T15:27:29.649630Z",
     "iopub.status.idle": "2023-06-13T15:27:30.143365Z",
     "shell.execute_reply": "2023-06-13T15:27:30.142542Z"
    },
    "papermill": {
     "duration": 0.503314,
     "end_time": "2023-06-13T15:27:30.144658",
     "exception": false,
     "start_time": "2023-06-13T15:27:29.641344",
     "status": "completed"
    },
    "tags": []
   },
   "outputs": [
    {
     "data": {
      "image/png": "[encoded data removed]",
      "text/plain": [
       "<Figure size 640x480 with 1 Axes>"
      ]
     },
     "metadata": {},
     "output_type": "display_data"
    }
   ],
   "source": [
    "# Python code for 2D random walk.\n",
    "import numpy\n",
    "import matplotlib.pyplot as plt\n",
    "%matplotlib inline\n",
    "import random\n",
    " \n",
    "#creating two array for containing x and y coordinate\n",
    "#of size equals to the number of size and filled up with 0's\n",
    "x = numpy.zeros(n)\n",
    "y = numpy.zeros(n)\n",
    " \n",
    "# filling the coordinates with random variables\n",
    "for i in range(1, n):\n",
    "    val = random.randint(1, 4)\n",
    "    if val == 1:\n",
    "        x[i] = x[i - 1] + 1\n",
    "        y[i] = y[i - 1]\n",
    "    elif val == 2:\n",
    "        x[i] = x[i - 1] - 1\n",
    "        y[i] = y[i - 1]\n",
    "    elif val == 3:\n",
    "        x[i] = x[i - 1]\n",
    "        y[i] = y[i - 1] + 1\n",
    "    else:\n",
    "        x[i] = x[i - 1]\n",
    "        y[i] = y[i - 1] - 1\n",
    "\n",
    "plt.plot(x, y, color=colour)\n",
    "plt.show()"
   ]
  },
  {
   "cell_type": "code",
   "execution_count": null,
   "id": "9a6fc0aa",
   "metadata": {
    "papermill": {
     "duration": 0.007819,
     "end_time": "2023-06-13T15:27:30.160352",
     "exception": false,
     "start_time": "2023-06-13T15:27:30.152533",
     "status": "completed"
    },
    "tags": []
   },
   "outputs": [],
   "source": []
  }
 ],
 "metadata": {
  "celltoolbar": "Tags",
  "kernelspec": {
   "display_name": "Python 3 (ipykernel)",
   "language": "python",
   "name": "python3"
  },
  "language_info": {
   "codemirror_mode": {
    "name": "ipython",
    "version": 3
   },
   "file_extension": ".py",
   "mimetype": "text/x-python",
   "name": "python",
   "nbconvert_exporter": "python",
   "pygments_lexer": "ipython3",
   "version": "3.10.6"
  },
  "papermill": {
   "default_parameters": {},
   "duration": 1.709538,
   "end_time": "2023-06-13T15:27:30.385598",
   "environment_variables": {},
   "exception": null,
   "input_path": "notebooks/random-walk.ipynb",
   "output_path": "outputs/completed_notebook.ipynb",
   "parameters": {
    "colour": "b",
    "n": 10
   },
   "start_time": "2023-06-13T15:27:28.676060",
   "version": "2.4.0"
  }
 },
 "nbformat": 4,
 "nbformat_minor": 5
}