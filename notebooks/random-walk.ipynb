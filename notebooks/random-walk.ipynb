{
 "cells": [
  {
   "attachments": {},
   "cell_type": "markdown",
   "metadata": {},
   "source": [
    "### Simulate a random walk and plot it"
   ]
  },
  {
   "cell_type": "code",
   "execution_count": null,
   "metadata": {},
   "outputs": [
    {
     "ename": "",
     "evalue": "",
     "output_type": "error",
     "traceback": [
      "\u001b[1;31mRunning cells with 'LukeStrange-x9U1R3yF' requires the ipykernel package.\n",
      "\u001b[1;31mRun the following command to install 'ipykernel' into the Python environment. \n",
      "\u001b[1;31mCommand: 'c:/Users/LukeStrange/.virtualenvs/LukeStrange-x9U1R3yF/Scripts/python.exe -m pip install ipykernel -U --force-reinstall'"
     ]
    }
   ],
   "source": [
    "# Python code for 2D random walk.\n",
    "import numpy\n",
    "import matplotlib.pyplot as plt\n",
    "%matplotlib inline\n",
    "import random\n",
    " \n",
    "#creating two array for containing x and y coordinate\n",
    "#of size equals to the number of size and filled up with 0's\n",
    "x = numpy.zeros(n)\n",
    "y = numpy.zeros(n)\n",
    " \n",
    "# filling the coordinates with random variables\n",
    "for i in range(1, n):\n",
    "    val = random.randint(1, 4)\n",
    "    if val == 1:\n",
    "        x[i] = x[i - 1] + 1\n",
    "        y[i] = y[i - 1]\n",
    "    elif val == 2:\n",
    "        x[i] = x[i - 1] - 1\n",
    "        y[i] = y[i - 1]\n",
    "    elif val == 3:\n",
    "        x[i] = x[i - 1]\n",
    "        y[i] = y[i - 1] + 1\n",
    "    else:\n",
    "        x[i] = x[i - 1]\n",
    "        y[i] = y[i - 1] - 1\n",
    "\n",
    "plt.plot(x, y, color=colour)\n",
    "plt.show()"
   ]
  },
  {
   "cell_type": "code",
   "execution_count": null,
   "metadata": {},
   "outputs": [],
   "source": []
  }
 ],
 "metadata": {
  "celltoolbar": "Tags",
  "kernelspec": {
   "display_name": "Python 3 (ipykernel)",
   "language": "python",
   "name": "python3"
  },
  "language_info": {
   "codemirror_mode": {
    "name": "ipython",
    "version": 3
   },
   "file_extension": ".py",
   "mimetype": "text/x-python",
   "name": "python",
   "nbconvert_exporter": "python",
   "pygments_lexer": "ipython3",
   "version": "3.11.3"
  }
 },
 "nbformat": 4,
 "nbformat_minor": 2
}
